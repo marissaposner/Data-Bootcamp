{
 "cells": [
  {
   "cell_type": "markdown",
   "metadata": {},
   "source": [
    "# Homework 5"
   ]
  },
  {
   "cell_type": "markdown",
   "metadata": {},
   "source": [
    "<div class=\"alert alert-block alert-info\">\n",
    "<b>Code Practice 5:</b> Spring 2019\n",
    "<br>\n",
    "<b> By: </b>Marissa &#9733; Posner\n",
    "</div>\n",
    "\n",
    "\n"
   ]
  },
  {
   "cell_type": "code",
   "execution_count": 475,
   "metadata": {},
   "outputs": [],
   "source": [
    "%matplotlib inline\n",
    "import matplotlib.pyplot as plt\n"
   ]
  },
  {
   "cell_type": "code",
   "execution_count": 525,
   "metadata": {},
   "outputs": [],
   "source": [
    "#1\n",
    "#Enter and run this code in a Jupyter cell to produce the dataframe weo:\n",
    "import pandas as pd\n",
    "data = {'BRA': [13.37, 13.30, 14.34, 15.07, 15.46, 15.98, 16.10],\n",
    "'JPN': [33.43, 31.83, 33.71, 34.29, 35.60, 36.79, 37.39],\n",
    "'USA': [48.30, 46.91, 48.31, 49.72, 51.41, 52.94, 54.60],\n",
    "'Year': [2008, 2009, 2010, 2011, 2012, 2013, 2014]}\n",
    "weo = pd.DataFrame(data)\n",
    "#The numbers are GDP per person in thousands of US dollars, 2008 to 2014, variable PPPPC\n",
    "#in the IMF's World Economic Outlook database."
   ]
  },
  {
   "cell_type": "markdown",
   "metadata": {},
   "source": [
    "1\n",
    "a) Explain the import statement. <br>\n",
    "The import statement adds the pandas data management package and assigns it the variable name pd.\n",
    "\n",
    "b) What type of object is data?\n",
    "A dictionary\n",
    "\n",
    "c)What type of object is weo? How many rows and Columns does it have?\n",
    "A dataframe with 7 rows and 4 columns\n",
    "\n",
    "d) What dtypes are the variables/columns? What does this mean?<br>\n",
    "weo.dtypes generates: <br>\n",
    "BRA     float64 <br>\n",
    "JPN     float64<br>\n",
    "USA     float64<br>\n",
    "Year      int64<br>\n",
    "\n",
    "so BRA, JPN, and USA are all floats (with a decimal point) and Year is an int\n"
   ]
  },
  {
   "cell_type": "code",
   "execution_count": 526,
   "metadata": {},
   "outputs": [
    {
     "data": {
      "text/plain": [
       "pandas.core.series.Series"
      ]
     },
     "execution_count": 526,
     "metadata": {},
     "output_type": "execute_result"
    }
   ],
   "source": [
    "#1e) What are each of these expressions? What type?\n",
    "type(weo['Year'])  \n",
    "#series bc input is a string so returns a variable (series) of the years"
   ]
  },
  {
   "cell_type": "code",
   "execution_count": 529,
   "metadata": {},
   "outputs": [
    {
     "data": {
      "text/plain": [
       "pandas.core.frame.DataFrame"
      ]
     },
     "execution_count": 529,
     "metadata": {},
     "output_type": "execute_result"
    }
   ],
   "source": [
    "#1e\n",
    "type(weo[['Year']])\n",
    "#dataframe bc input is a list of years so returns a dataframe "
   ]
  },
  {
   "cell_type": "code",
   "execution_count": 489,
   "metadata": {},
   "outputs": [
    {
     "ename": "KeyError",
     "evalue": "'[3] not in index'",
     "output_type": "error",
     "traceback": [
      "\u001b[0;31m---------------------------------------------------------------------------\u001b[0m",
      "\u001b[0;31mKeyError\u001b[0m                                  Traceback (most recent call last)",
      "\u001b[0;32m<ipython-input-489-000f60a796f9>\u001b[0m in \u001b[0;36m<module>\u001b[0;34m()\u001b[0m\n\u001b[1;32m      1\u001b[0m \u001b[0;31m#1e\u001b[0m\u001b[0;34m\u001b[0m\u001b[0;34m\u001b[0m\u001b[0m\n\u001b[0;32m----> 2\u001b[0;31m \u001b[0mtype\u001b[0m\u001b[0;34m(\u001b[0m\u001b[0mweo\u001b[0m\u001b[0;34m[\u001b[0m\u001b[0;34m[\u001b[0m\u001b[0;36m3\u001b[0m\u001b[0;34m]\u001b[0m\u001b[0;34m]\u001b[0m\u001b[0;34m)\u001b[0m\u001b[0;34m\u001b[0m\u001b[0m\n\u001b[0m\u001b[1;32m      3\u001b[0m \u001b[0;31m#theoretically should be a dataframe\u001b[0m\u001b[0;34m\u001b[0m\u001b[0;34m\u001b[0m\u001b[0m\n\u001b[1;32m      4\u001b[0m \u001b[0;31m#doesnt run but I assume you mean for it to return a dataframe because it is similar to the one above\u001b[0m\u001b[0;34m\u001b[0m\u001b[0;34m\u001b[0m\u001b[0m\n\u001b[1;32m      5\u001b[0m \u001b[0;31m#and you want the 3rd object in the df so since the input is a list it would be a dataframe\u001b[0m\u001b[0;34m\u001b[0m\u001b[0;34m\u001b[0m\u001b[0m\n",
      "\u001b[0;32m~/anaconda3/lib/python3.7/site-packages/pandas/core/frame.py\u001b[0m in \u001b[0;36m__getitem__\u001b[0;34m(self, key)\u001b[0m\n\u001b[1;32m   2680\u001b[0m         \u001b[0;32mif\u001b[0m \u001b[0misinstance\u001b[0m\u001b[0;34m(\u001b[0m\u001b[0mkey\u001b[0m\u001b[0;34m,\u001b[0m \u001b[0;34m(\u001b[0m\u001b[0mSeries\u001b[0m\u001b[0;34m,\u001b[0m \u001b[0mnp\u001b[0m\u001b[0;34m.\u001b[0m\u001b[0mndarray\u001b[0m\u001b[0;34m,\u001b[0m \u001b[0mIndex\u001b[0m\u001b[0;34m,\u001b[0m \u001b[0mlist\u001b[0m\u001b[0;34m)\u001b[0m\u001b[0;34m)\u001b[0m\u001b[0;34m:\u001b[0m\u001b[0;34m\u001b[0m\u001b[0m\n\u001b[1;32m   2681\u001b[0m             \u001b[0;31m# either boolean or fancy integer index\u001b[0m\u001b[0;34m\u001b[0m\u001b[0;34m\u001b[0m\u001b[0m\n\u001b[0;32m-> 2682\u001b[0;31m             \u001b[0;32mreturn\u001b[0m \u001b[0mself\u001b[0m\u001b[0;34m.\u001b[0m\u001b[0m_getitem_array\u001b[0m\u001b[0;34m(\u001b[0m\u001b[0mkey\u001b[0m\u001b[0;34m)\u001b[0m\u001b[0;34m\u001b[0m\u001b[0m\n\u001b[0m\u001b[1;32m   2683\u001b[0m         \u001b[0;32melif\u001b[0m \u001b[0misinstance\u001b[0m\u001b[0;34m(\u001b[0m\u001b[0mkey\u001b[0m\u001b[0;34m,\u001b[0m \u001b[0mDataFrame\u001b[0m\u001b[0;34m)\u001b[0m\u001b[0;34m:\u001b[0m\u001b[0;34m\u001b[0m\u001b[0m\n\u001b[1;32m   2684\u001b[0m             \u001b[0;32mreturn\u001b[0m \u001b[0mself\u001b[0m\u001b[0;34m.\u001b[0m\u001b[0m_getitem_frame\u001b[0m\u001b[0;34m(\u001b[0m\u001b[0mkey\u001b[0m\u001b[0;34m)\u001b[0m\u001b[0;34m\u001b[0m\u001b[0m\n",
      "\u001b[0;32m~/anaconda3/lib/python3.7/site-packages/pandas/core/frame.py\u001b[0m in \u001b[0;36m_getitem_array\u001b[0;34m(self, key)\u001b[0m\n\u001b[1;32m   2724\u001b[0m             \u001b[0;32mreturn\u001b[0m \u001b[0mself\u001b[0m\u001b[0;34m.\u001b[0m\u001b[0m_take\u001b[0m\u001b[0;34m(\u001b[0m\u001b[0mindexer\u001b[0m\u001b[0;34m,\u001b[0m \u001b[0maxis\u001b[0m\u001b[0;34m=\u001b[0m\u001b[0;36m0\u001b[0m\u001b[0;34m)\u001b[0m\u001b[0;34m\u001b[0m\u001b[0m\n\u001b[1;32m   2725\u001b[0m         \u001b[0;32melse\u001b[0m\u001b[0;34m:\u001b[0m\u001b[0;34m\u001b[0m\u001b[0m\n\u001b[0;32m-> 2726\u001b[0;31m             \u001b[0mindexer\u001b[0m \u001b[0;34m=\u001b[0m \u001b[0mself\u001b[0m\u001b[0;34m.\u001b[0m\u001b[0mloc\u001b[0m\u001b[0;34m.\u001b[0m\u001b[0m_convert_to_indexer\u001b[0m\u001b[0;34m(\u001b[0m\u001b[0mkey\u001b[0m\u001b[0;34m,\u001b[0m \u001b[0maxis\u001b[0m\u001b[0;34m=\u001b[0m\u001b[0;36m1\u001b[0m\u001b[0;34m)\u001b[0m\u001b[0;34m\u001b[0m\u001b[0m\n\u001b[0m\u001b[1;32m   2727\u001b[0m             \u001b[0;32mreturn\u001b[0m \u001b[0mself\u001b[0m\u001b[0;34m.\u001b[0m\u001b[0m_take\u001b[0m\u001b[0;34m(\u001b[0m\u001b[0mindexer\u001b[0m\u001b[0;34m,\u001b[0m \u001b[0maxis\u001b[0m\u001b[0;34m=\u001b[0m\u001b[0;36m1\u001b[0m\u001b[0;34m)\u001b[0m\u001b[0;34m\u001b[0m\u001b[0m\n\u001b[1;32m   2728\u001b[0m \u001b[0;34m\u001b[0m\u001b[0m\n",
      "\u001b[0;32m~/anaconda3/lib/python3.7/site-packages/pandas/core/indexing.py\u001b[0m in \u001b[0;36m_convert_to_indexer\u001b[0;34m(self, obj, axis, is_setter)\u001b[0m\n\u001b[1;32m   1325\u001b[0m                 \u001b[0;32mif\u001b[0m \u001b[0mmask\u001b[0m\u001b[0;34m.\u001b[0m\u001b[0many\u001b[0m\u001b[0;34m(\u001b[0m\u001b[0;34m)\u001b[0m\u001b[0;34m:\u001b[0m\u001b[0;34m\u001b[0m\u001b[0m\n\u001b[1;32m   1326\u001b[0m                     raise KeyError('{mask} not in index'\n\u001b[0;32m-> 1327\u001b[0;31m                                    .format(mask=objarr[mask]))\n\u001b[0m\u001b[1;32m   1328\u001b[0m \u001b[0;34m\u001b[0m\u001b[0m\n\u001b[1;32m   1329\u001b[0m                 \u001b[0;32mreturn\u001b[0m \u001b[0mcom\u001b[0m\u001b[0;34m.\u001b[0m\u001b[0m_values_from_object\u001b[0m\u001b[0;34m(\u001b[0m\u001b[0mindexer\u001b[0m\u001b[0;34m)\u001b[0m\u001b[0;34m\u001b[0m\u001b[0m\n",
      "\u001b[0;31mKeyError\u001b[0m: '[3] not in index'"
     ]
    }
   ],
   "source": [
    "#1e\n",
    "type(weo[[3]])\n",
    "#theoretically should be a dataframe\n",
    "#doesnt run but I assume you mean for it to return a dataframe because it is similar to the one above \n",
    "#and you want the 3rd object in the df so since the input is a list it would be a dataframe \n"
   ]
  },
  {
   "cell_type": "code",
   "execution_count": 377,
   "metadata": {},
   "outputs": [],
   "source": [
    "#1f Find and apply a method to convert weo['Year'] to type float. \n",
    "weo['Year'] = weo['Year'].astype(float)"
   ]
  },
  {
   "cell_type": "markdown",
   "metadata": {},
   "source": [
    "1g. Describe the result of the statement t = weo.tail(3). What kind of object is it? What\n",
    "does it look like?\n",
    "t = weo.tail(3) is a dataframe consisting of the last three rows of weo"
   ]
  },
  {
   "cell_type": "code",
   "execution_count": 378,
   "metadata": {},
   "outputs": [
    {
     "data": {
      "text/html": [
       "<div>\n",
       "<style scoped>\n",
       "    .dataframe tbody tr th:only-of-type {\n",
       "        vertical-align: middle;\n",
       "    }\n",
       "\n",
       "    .dataframe tbody tr th {\n",
       "        vertical-align: top;\n",
       "    }\n",
       "\n",
       "    .dataframe thead th {\n",
       "        text-align: right;\n",
       "    }\n",
       "</style>\n",
       "<table border=\"1\" class=\"dataframe\">\n",
       "  <thead>\n",
       "    <tr style=\"text-align: right;\">\n",
       "      <th></th>\n",
       "      <th>BRA</th>\n",
       "      <th>JPN</th>\n",
       "      <th>USA</th>\n",
       "      <th>Year</th>\n",
       "    </tr>\n",
       "  </thead>\n",
       "  <tbody>\n",
       "    <tr>\n",
       "      <th>0</th>\n",
       "      <td>13.37</td>\n",
       "      <td>33.43</td>\n",
       "      <td>48.30</td>\n",
       "      <td>2008.0</td>\n",
       "    </tr>\n",
       "    <tr>\n",
       "      <th>1</th>\n",
       "      <td>13.30</td>\n",
       "      <td>31.83</td>\n",
       "      <td>46.91</td>\n",
       "      <td>2009.0</td>\n",
       "    </tr>\n",
       "    <tr>\n",
       "      <th>2</th>\n",
       "      <td>14.34</td>\n",
       "      <td>33.71</td>\n",
       "      <td>48.31</td>\n",
       "      <td>2010.0</td>\n",
       "    </tr>\n",
       "    <tr>\n",
       "      <th>3</th>\n",
       "      <td>15.07</td>\n",
       "      <td>34.29</td>\n",
       "      <td>49.72</td>\n",
       "      <td>2011.0</td>\n",
       "    </tr>\n",
       "  </tbody>\n",
       "</table>\n",
       "</div>"
      ],
      "text/plain": [
       "     BRA    JPN    USA    Year\n",
       "0  13.37  33.43  48.30  2008.0\n",
       "1  13.30  31.83  46.91  2009.0\n",
       "2  14.34  33.71  48.31  2010.0\n",
       "3  15.07  34.29  49.72  2011.0"
      ]
     },
     "execution_count": 378,
     "metadata": {},
     "output_type": "execute_result"
    }
   ],
   "source": [
    "#1h. How would you create a new dataframe that consists of the first 4 rows of weo?\n",
    "weo.head(4)"
   ]
  },
  {
   "cell_type": "code",
   "execution_count": 379,
   "metadata": {},
   "outputs": [
    {
     "data": {
      "text/plain": [
       "pandas.core.series.Series"
      ]
     },
     "execution_count": 379,
     "metadata": {},
     "output_type": "execute_result"
    }
   ],
   "source": [
    "#1i) What type of object is weo['BRA']?\n",
    "type(weo['BRA']) \n",
    "#it is a series (1 column)"
   ]
  },
  {
   "cell_type": "code",
   "execution_count": 497,
   "metadata": {},
   "outputs": [],
   "source": [
    "#1j. Create a new variable equal to the ratio of Brazil's GDP per capita to Japan's and add it\n",
    "#to the DataFrame.\n",
    "weo['ratio'] = weo['BRA']/weo['JPN']\n"
   ]
  },
  {
   "cell_type": "code",
   "execution_count": 498,
   "metadata": {},
   "outputs": [],
   "source": [
    "#1k) Use the drop() method to eliminate this (new) variable from the dataframe.\n",
    "weo = weo.drop(['ratio'], axis=1)"
   ]
  },
  {
   "cell_type": "code",
   "execution_count": 499,
   "metadata": {},
   "outputs": [
    {
     "name": "stdout",
     "output_type": "stream",
     "text": [
      "Row labels (index): RangeIndex(start=0, stop=7, step=1)\n",
      "Column labels: Index(['BRA', 'JPN', 'USA', 'Year'], dtype='object')\n"
     ]
    }
   ],
   "source": [
    "#1l) What are weo's row and column labels?\n",
    "print('Row labels (index):', weo.index)\n",
    "print('Column labels:', weo.columns)\n",
    "\n",
    "# Row labels (index): RangeIndex(start=0, stop=7, step=1)\n",
    "# Column labels: Index(['BRA', 'JPN', 'USA', 'Year', 'ratio1'], dtype='object')"
   ]
  },
  {
   "cell_type": "code",
   "execution_count": 500,
   "metadata": {},
   "outputs": [],
   "source": [
    "#1m) Set the index equal to the Year variable\n",
    "weo = weo.set_index(['Year'])"
   ]
  },
  {
   "cell_type": "code",
   "execution_count": 501,
   "metadata": {},
   "outputs": [],
   "source": [
    "#1n) Change the names of the other variables to Brazil, Japan, and United States.\n",
    "weo=weo.rename(columns={'BRA': 'Brazil','JPN':'Japan','USA':'United States'})\n"
   ]
  },
  {
   "cell_type": "code",
   "execution_count": 502,
   "metadata": {},
   "outputs": [],
   "source": [
    "#1o) Export the dataframe to a csv spreadsheet.\n",
    "weo.to_csv('weo.csv')"
   ]
  },
  {
   "cell_type": "code",
   "execution_count": 503,
   "metadata": {},
   "outputs": [
    {
     "name": "stdout",
     "output_type": "stream",
     "text": [
      "Country means: \n",
      "Brazil           14.802857\n",
      "Japan            34.720000\n",
      "United States    50.312857\n",
      "dtype: float64\n"
     ]
    }
   ],
   "source": [
    "#1p) What method would you use to compute the mean for each country? What are the means?\n",
    "print('Country means: ')\n",
    "print(weo.mean(), sep='')\n",
    "# Country means: \n",
    "# Brazil           14.802857\n",
    "# Japan            34.720000\n",
    "# United States    50.312857"
   ]
  },
  {
   "cell_type": "code",
   "execution_count": 504,
   "metadata": {},
   "outputs": [
    {
     "name": "stdout",
     "output_type": "stream",
     "text": [
      "Yearly means: \n",
      "Year\n",
      "2008    31.700000\n",
      "2009    30.680000\n",
      "2010    32.120000\n",
      "2011    33.026667\n",
      "2012    34.156667\n",
      "2013    35.236667\n",
      "2014    36.030000\n",
      "dtype: float64\n"
     ]
    }
   ],
   "source": [
    "#1q) How would you compute means across countries for each year?\n",
    "print('Yearly means: ')\n",
    "print(weo.mean(axis=1), sep='')"
   ]
  },
  {
   "cell_type": "code",
   "execution_count": 531,
   "metadata": {},
   "outputs": [],
   "source": [
    "#2. Question 2. Consider the 538 college majors data at url:\n",
    "url1 = 'https://raw.githubusercontent.com/fivethirtyeight/data/master/'\n",
    "url2 = 'college-majors/recent-grads.csv'\n",
    "url = url1 + url2\n",
    "#a) Create a dataframe df538 from the csv file at url using read_csv(). What are its dimensions?\n",
    "df538 = pd.read_csv(url)"
   ]
  },
  {
   "cell_type": "markdown",
   "metadata": {},
   "source": [
    "2b) What argument/parameter would you use to read only the first ten lines of the file?\n",
    "\n",
    "nrows=10 <br>\n",
    "df538 = pd.read_csv(url,nrows=10)"
   ]
  },
  {
   "cell_type": "code",
   "execution_count": 518,
   "metadata": {},
   "outputs": [
    {
     "data": {
      "text/plain": [
       "'P75th'"
      ]
     },
     "execution_count": 518,
     "metadata": {},
     "output_type": "execute_result"
    }
   ],
   "source": [
    "#2c) Extract the variables numbered [2, 4, 15, 16, 17]. What are the names of these variables? What do they represent?\n",
    "list(df538)[2] #lists the different majors\n",
    "list(df538)[4] #how many of the recent grads are men \n",
    "list(df538)[15] #Median salary \n",
    "list(df538)[16] #P25th (25th percentile salary)\n",
    "list(df538)[17] #P75th (75th percentile salary)\n"
   ]
  },
  {
   "cell_type": "code",
   "execution_count": 519,
   "metadata": {},
   "outputs": [],
   "source": [
    "#2d) Set the index equal to Major.\n",
    "df538 = df538.set_index(['Major'])"
   ]
  },
  {
   "cell_type": "code",
   "execution_count": 520,
   "metadata": {},
   "outputs": [
    {
     "data": {
      "text/plain": [
       "Major\n",
       "MILITARY TECHNOLOGIES                                                   124.0\n",
       "MATHEMATICS AND COMPUTER SCIENCE                                        609.0\n",
       "SOIL SCIENCE                                                            685.0\n",
       "GEOLOGICAL AND GEOPHYSICAL ENGINEERING                                  720.0\n",
       "MINING AND MINERAL ENGINEERING                                          756.0\n",
       "EDUCATIONAL ADMINISTRATION AND SUPERVISION                              804.0\n",
       "SCHOOL STUDENT COUNSELING                                               818.0\n",
       "METALLURGICAL ENGINEERING                                               856.0\n",
       "LIBRARY SCIENCE                                                        1098.0\n",
       "COURT REPORTING                                                        1148.0\n",
       "NAVAL ARCHITECTURE AND MARINE ENGINEERING                              1258.0\n",
       "BOTANY                                                                 1329.0\n",
       "SOCIAL PSYCHOLOGY                                                      1386.0\n",
       "PHYSICAL SCIENCES                                                      1436.0\n",
       "MISCELLANEOUS AGRICULTURE                                              1488.0\n",
       "PHARMACOLOGY                                                           1762.0\n",
       "ASTRONOMY AND ASTROPHYSICS                                             1792.0\n",
       "GEOSCIENCES                                                            1978.0\n",
       "NUCLEAR, INDUSTRIAL RADIOLOGY, AND BIOLOGICAL TECHNOLOGIES             2116.0\n",
       "PETROLEUM ENGINEERING                                                  2339.0\n",
       "OCEANOGRAPHY                                                           2418.0\n",
       "ELECTRICAL, MECHANICAL, AND PRECISION TECHNOLOGIES AND PRODUCTION      2435.0\n",
       "AGRICULTURAL ECONOMICS                                                 2439.0\n",
       "NUCLEAR ENGINEERING                                                    2573.0\n",
       "ARCHITECTURAL ENGINEERING                                              2825.0\n",
       "CLINICAL PSYCHOLOGY                                                    2838.0\n",
       "EDUCATIONAL PSYCHOLOGY                                                 2854.0\n",
       "ENGINEERING AND INDUSTRIAL MANAGEMENT                                  2906.0\n",
       "MATERIALS ENGINEERING AND MATERIALS SCIENCE                            2993.0\n",
       "INDUSTRIAL AND ORGANIZATIONAL PSYCHOLOGY                               3014.0\n",
       "                                                                       ...   \n",
       "GENERAL ENGINEERING                                                   61152.0\n",
       "MULTI-DISCIPLINARY OR GENERAL SCIENCE                                 62052.0\n",
       "CHEMISTRY                                                             66530.0\n",
       "LIBERAL ARTS                                                          71369.0\n",
       "MATHEMATICS                                                           72397.0\n",
       "JOURNALISM                                                            72619.0\n",
       "FINE ARTS                                                             74440.0\n",
       "ELECTRICAL ENGINEERING                                                81527.0\n",
       "MECHANICAL ENGINEERING                                                91227.0\n",
       "COMMERCIAL ART AND GRAPHIC DESIGN                                    103480.0\n",
       "SOCIOLOGY                                                            115433.0\n",
       "PHYSICAL FITNESS PARKS RECREATION AND LEISURE                        125074.0\n",
       "COMPUTER SCIENCE                                                     128319.0\n",
       "ECONOMICS                                                            139247.0\n",
       "HISTORY                                                              141951.0\n",
       "GENERAL EDUCATION                                                    143718.0\n",
       "CRIMINAL JUSTICE AND FIRE PROTECTION                                 152824.0\n",
       "ELEMENTARY EDUCATION                                                 170862.0\n",
       "FINANCE                                                              174506.0\n",
       "POLITICAL SCIENCE AND GOVERNMENT                                     182621.0\n",
       "ENGLISH LANGUAGE AND LITERATURE                                      194673.0\n",
       "ACCOUNTING                                                           198633.0\n",
       "MARKETING AND MARKETING RESEARCH                                     205211.0\n",
       "NURSING                                                              209394.0\n",
       "COMMUNICATIONS                                                       213996.0\n",
       "GENERAL BUSINESS                                                     234590.0\n",
       "BIOLOGY                                                              280709.0\n",
       "BUSINESS MANAGEMENT AND ADMINISTRATION                               329927.0\n",
       "PSYCHOLOGY                                                           393735.0\n",
       "FOOD SCIENCE                                                              NaN\n",
       "Name: Total, Length: 173, dtype: float64"
      ]
     },
     "execution_count": 520,
     "metadata": {},
     "output_type": "execute_result"
    }
   ],
   "source": [
    "#2e) Use the sort_values() method to sort the data by Total.\n",
    "df538['Total'].sort_values()\n"
   ]
  },
  {
   "cell_type": "code",
   "execution_count": 522,
   "metadata": {},
   "outputs": [
    {
     "data": {
      "image/png": "[encoded data removed]",
      "text/plain": [
       "<Figure size 432x288 with 1 Axes>"
      ]
     },
     "metadata": {
      "needs_background": "light"
     },
     "output_type": "display_data"
    }
   ],
   "source": [
    "#2f) What code would you use to extract the ten majors with the greatest number of people?\n",
    "ten = df538.head(10)\n",
    "ten['Total'].sort_values().plot(kind='barh');"
   ]
  },
  {
   "cell_type": "code",
   "execution_count": 394,
   "metadata": {},
   "outputs": [
    {
     "data": {
      "image/png": "[encoded data removed]",
      "text/plain": [
       "<Figure size 432x288 with 1 Axes>"
      ]
     },
     "metadata": {
      "needs_background": "light"
     },
     "output_type": "display_data"
    }
   ],
   "source": [
    "# 2g) Construct horizontal bar charts of the top ten majors sorted, first, by median salary and, second, \n",
    "# by the salary of the 25th percentile. In each case plot just the variable you sorted on.\n",
    "ten['Median'].sort_values().plot(kind='barh');\n"
   ]
  },
  {
   "cell_type": "code",
   "execution_count": 395,
   "metadata": {},
   "outputs": [
    {
     "data": {
      "image/png": "[encoded data removed]",
      "text/plain": [
       "<Figure size 432x288 with 1 Axes>"
      ]
     },
     "metadata": {
      "needs_background": "light"
     },
     "output_type": "display_data"
    }
   ],
   "source": [
    "#2g cont...\n",
    "ten['P25th'].sort_values().plot(kind='barh');"
   ]
  },
  {
   "cell_type": "code",
   "execution_count": 532,
   "metadata": {},
   "outputs": [
    {
     "data": {
      "text/plain": [
       "pandas.core.frame.DataFrame"
      ]
     },
     "execution_count": 532,
     "metadata": {},
     "output_type": "execute_result"
    }
   ],
   "source": [
    "#3 Write code in the cell below that reads the csv file we posted at\n",
    "url='http://pages.stern.nyu.edu/~dbackus/Data/debt.csv'\n",
    "debt = pd.read_csv(url)\n",
    "#a) What type of object is debt?\n",
    "type(debt)\n",
    "#debt is a dataframe\n"
   ]
  },
  {
   "cell_type": "code",
   "execution_count": 533,
   "metadata": {},
   "outputs": [
    {
     "data": {
      "text/plain": [
       "(7, 4)"
      ]
     },
     "execution_count": 533,
     "metadata": {},
     "output_type": "execute_result"
    }
   ],
   "source": [
    "#3b) What are its dimensions?\n",
    "debt.shape\n",
    "#(7,4) 7 rows, 4 columns"
   ]
  },
  {
   "cell_type": "code",
   "execution_count": 534,
   "metadata": {},
   "outputs": [
    {
     "name": "stdout",
     "output_type": "stream",
     "text": [
      "Row labels (index): RangeIndex(start=0, stop=7, step=1)\n",
      "Column labels: Index(['ARG', 'DEU', 'GRC', 'Year'], dtype='object')\n"
     ]
    }
   ],
   "source": [
    "#3c) What are its column labels? Row labels?\n",
    "print('Row labels (index):', debt.index)\n",
    "print('Column labels:', debt.columns)"
   ]
  },
  {
   "cell_type": "markdown",
   "metadata": {},
   "source": [
    "#3d) What dtypes are the columns? <br>\n",
    "After running debt.dtypes: <br>\n",
    "ARG     float64<br>\n",
    "DEU     float64<br>\n",
    "GRC     float64<br>\n",
    "Year      int64<br>\n",
    "\n",
    "The first 3 are floats and Year is an int"
   ]
  },
  {
   "cell_type": "code",
   "execution_count": 535,
   "metadata": {},
   "outputs": [],
   "source": [
    "#4. Do the following with debt:\n",
    "#a) Set Year as the index bc by default it is just the row #\n",
    "debt.set_index(['Year'],inplace = True)\n"
   ]
  },
  {
   "cell_type": "code",
   "execution_count": 536,
   "metadata": {},
   "outputs": [
    {
     "data": {
      "text/html": [
       "<div>\n",
       "<style scoped>\n",
       "    .dataframe tbody tr th:only-of-type {\n",
       "        vertical-align: middle;\n",
       "    }\n",
       "\n",
       "    .dataframe tbody tr th {\n",
       "        vertical-align: top;\n",
       "    }\n",
       "\n",
       "    .dataframe thead th {\n",
       "        text-align: right;\n",
       "    }\n",
       "</style>\n",
       "<table border=\"1\" class=\"dataframe\">\n",
       "  <thead>\n",
       "    <tr style=\"text-align: right;\">\n",
       "      <th></th>\n",
       "      <th>Argentina</th>\n",
       "      <th>Germany</th>\n",
       "      <th>Greece</th>\n",
       "    </tr>\n",
       "    <tr>\n",
       "      <th>Year</th>\n",
       "      <th></th>\n",
       "      <th></th>\n",
       "      <th></th>\n",
       "    </tr>\n",
       "  </thead>\n",
       "  <tbody>\n",
       "    <tr>\n",
       "      <th>2002</th>\n",
       "      <td>137.5</td>\n",
       "      <td>59.2</td>\n",
       "      <td>98.1</td>\n",
       "    </tr>\n",
       "    <tr>\n",
       "      <th>2004</th>\n",
       "      <td>106.0</td>\n",
       "      <td>64.6</td>\n",
       "      <td>94.9</td>\n",
       "    </tr>\n",
       "    <tr>\n",
       "      <th>2006</th>\n",
       "      <td>61.8</td>\n",
       "      <td>66.3</td>\n",
       "      <td>102.9</td>\n",
       "    </tr>\n",
       "    <tr>\n",
       "      <th>2008</th>\n",
       "      <td>47.0</td>\n",
       "      <td>64.9</td>\n",
       "      <td>108.8</td>\n",
       "    </tr>\n",
       "    <tr>\n",
       "      <th>2010</th>\n",
       "      <td>39.1</td>\n",
       "      <td>80.3</td>\n",
       "      <td>145.7</td>\n",
       "    </tr>\n",
       "    <tr>\n",
       "      <th>2012</th>\n",
       "      <td>37.3</td>\n",
       "      <td>79.0</td>\n",
       "      <td>156.5</td>\n",
       "    </tr>\n",
       "    <tr>\n",
       "      <th>2014</th>\n",
       "      <td>48.6</td>\n",
       "      <td>73.1</td>\n",
       "      <td>177.2</td>\n",
       "    </tr>\n",
       "  </tbody>\n",
       "</table>\n",
       "</div>"
      ],
      "text/plain": [
       "      Argentina  Germany  Greece\n",
       "Year                            \n",
       "2002      137.5     59.2    98.1\n",
       "2004      106.0     64.6    94.9\n",
       "2006       61.8     66.3   102.9\n",
       "2008       47.0     64.9   108.8\n",
       "2010       39.1     80.3   145.7\n",
       "2012       37.3     79.0   156.5\n",
       "2014       48.6     73.1   177.2"
      ]
     },
     "execution_count": 536,
     "metadata": {},
     "output_type": "execute_result"
    }
   ],
   "source": [
    "#4b) Change the column labels from country codes to country names. Do this using both a dictionary and a list.\n",
    "new_countries={'ARG':'Argentina', 'DEU': 'Germany', 'GRC':'Greece'}\n",
    "debt.rename(columns=new_countries)\n",
    "#using a dictionary "
   ]
  },
  {
   "cell_type": "code",
   "execution_count": 401,
   "metadata": {},
   "outputs": [
    {
     "data": {
      "text/plain": [
       "<bound method NDFrame.head of       Argentina  Germany  Greece\n",
       "Year                            \n",
       "2002      137.5     59.2    98.1\n",
       "2004      106.0     64.6    94.9\n",
       "2006       61.8     66.3   102.9\n",
       "2008       47.0     64.9   108.8\n",
       "2010       39.1     80.3   145.7\n",
       "2012       37.3     79.0   156.5\n",
       "2014       48.6     73.1   177.2>"
      ]
     },
     "execution_count": 401,
     "metadata": {},
     "output_type": "execute_result"
    }
   ],
   "source": [
    "new_countries={'ARG':'Argentina', 'DEU': 'Germany', 'GRC':'Greece'}\n",
    "debt.columns = list(new_countries.values())\n",
    "#convert dictionary to list\n",
    "debt.head\n",
    "\n"
   ]
  },
  {
   "cell_type": "code",
   "execution_count": 402,
   "metadata": {},
   "outputs": [
    {
     "name": "stdout",
     "output_type": "stream",
     "text": [
      "      Argentina  Germany  Greece\n",
      "Year                            \n",
      "2002      137.5     59.2    98.1\n",
      "2004      106.0     64.6    94.9\n",
      "2006       61.8     66.3   102.9\n",
      "2008       47.0     64.9   108.8\n",
      "2010       39.1     80.3   145.7\n",
      "2012       37.3     79.0   156.5\n",
      "2014       48.6     73.1   177.2\n"
     ]
    }
   ],
   "source": [
    "#4c) Print the result to verify your changes.\n",
    "print(debt)"
   ]
  },
  {
   "cell_type": "code",
   "execution_count": 403,
   "metadata": {},
   "outputs": [
    {
     "name": "stdout",
     "output_type": "stream",
     "text": [
      "Country means:\n",
      "Argentina     68.185714\n",
      "Germany       69.628571\n",
      "Greece       126.300000\n",
      "dtype: float64\n"
     ]
    }
   ],
   "source": [
    "#4d) Compute the mean (average) debt for each country.\n",
    "print('Country means:')\n",
    "print(debt.mean(), sep='')"
   ]
  },
  {
   "cell_type": "code",
   "execution_count": 537,
   "metadata": {},
   "outputs": [
    {
     "name": "stdout",
     "output_type": "stream",
     "text": [
      "Yearly means:\n",
      "Year\n",
      "2002    98.266667\n",
      "2004    88.500000\n",
      "2006    77.000000\n",
      "2008    73.566667\n",
      "2010    88.366667\n",
      "2012    90.933333\n",
      "2014    99.633333\n",
      "dtype: float64\n"
     ]
    }
   ],
   "source": [
    "#4e) Compute the mean debt for each year.\n",
    "print('Yearly means:')\n",
    "print(debt.mean(axis=1), sep='')"
   ]
  },
  {
   "cell_type": "code",
   "execution_count": 539,
   "metadata": {},
   "outputs": [
    {
     "data": {
      "text/plain": [
       "88.03809523809524"
      ]
     },
     "execution_count": 539,
     "metadata": {},
     "output_type": "execute_result"
    }
   ],
   "source": [
    "#4f) Compute the mean debt over both countries and years.\n",
    "debt.mean().mean() #computes mean over both"
   ]
  },
  {
   "cell_type": "code",
   "execution_count": 407,
   "metadata": {},
   "outputs": [
    {
     "data": {
      "image/png": "[encoded data removed]",
      "text/plain": [
       "<Figure size 432x288 with 1 Axes>"
      ]
     },
     "metadata": {
      "needs_background": "light"
     },
     "output_type": "display_data"
    }
   ],
   "source": [
    "#4g) Plot each country's debt against Year using a plot method. \n",
    "debt.plot();"
   ]
  },
  {
   "cell_type": "code",
   "execution_count": 408,
   "metadata": {},
   "outputs": [
    {
     "data": {
      "image/png": "[encoded data removed]",
      "text/plain": [
       "<Figure size 432x288 with 1 Axes>"
      ]
     },
     "metadata": {
      "needs_background": "light"
     },
     "output_type": "display_data"
    }
   ],
   "source": [
    "#4h) Change the line width to 2. \n",
    "debt.plot(linewidth = 2);"
   ]
  },
  {
   "cell_type": "code",
   "execution_count": 409,
   "metadata": {},
   "outputs": [
    {
     "data": {
      "image/png": "[encoded data removed]",
      "text/plain": [
       "<Figure size 432x288 with 1 Axes>"
      ]
     },
     "metadata": {
      "needs_background": "light"
     },
     "output_type": "display_data"
    }
   ],
   "source": [
    "#5) We'll continue to use the data in debt. Make sure the index is the year.\n",
    "#a) Create figure and axis objects with plt.subplots(). \n",
    "#b) Graph public indebtedness over time using our debt data and the axis object we just created.\n",
    "fig, ax = plt.subplots()\n",
    "debt.plot(ax=ax);\n"
   ]
  },
  {
   "cell_type": "code",
   "execution_count": 417,
   "metadata": {},
   "outputs": [
    {
     "data": {
      "image/png": "[encoded data removed]",
      "text/plain": [
       "<Figure size 432x288 with 1 Axes>"
      ]
     },
     "metadata": {
      "needs_background": "light"
     },
     "output_type": "display_data"
    }
   ],
   "source": [
    "#5c) Change the colors to ['red', 'green', 'blue'].\n",
    "fig, ax = plt.subplots()\n",
    "my_colors = ['red', 'green', 'blue']\n",
    "debt.plot(ax = ax, linewidth = 2, color = my_colors);\n",
    "#d) By calling a method on the axis object, change the lower limit on the y axis to zero.\n",
    "ax.set_ylim(0,200)\n",
    "#e) By calling a method on the axis object, add a title to the graph.\n",
    "ax.set_title(\"Debt\",loc='center', fontsize=10, fontweight = \"bold\");\n",
    "\n",
    "#f) By calling a method on the axis object, add a label to the y axis -- something like \"Public Debt (% of GDP)\".\n",
    "ax.set_ylabel(\"Public Debt (% of GDP)\");\n",
    "\n",
    "#g) Make the line for Argentina thicker than the others. Hint: Do this by plotting a separate\n",
    "#line applied to the same axis object.\n",
    "debt['Argentina'].plot(ax=ax, linewidth=5,color='red');"
   ]
  },
  {
   "cell_type": "code",
   "execution_count": 540,
   "metadata": {},
   "outputs": [],
   "source": [
    "#6. \n",
    "data = {'Size': ['1 to 4', '5 to 9', '10 to 19', '20 to 49', '50 to 99',\n",
    " '100 to 249', '250 to 499', '500 to 999', '1000 to 2499',\n",
    " '2500 to 4999', '5000 to 9999', '10000+'],\n",
    " 'Firms': [2846416, 1020772, 598153, 373345, 115544, 63845,\n",
    " 19389, 9588, 6088, 2287, 1250, 1357],\n",
    " 'Emp': [5998912, 6714924, 8151891, 11425545, 8055535, 9788341,\n",
    " 6611734, 6340775, 8321486, 6738218, 6559020, 32556671]}\n",
    "bds = pd.DataFrame(data)\n",
    "bds = bds.set_index('Size')\n",
    "\n",
    "#a) Create a new variable `AvgEmp` equal to the ratio of `Emp` to `Firms` and add it as a new column in `bds`.\n",
    "bds['AvgEmp'] = bds['Emp']/bds['Firms']\n"
   ]
  },
  {
   "cell_type": "code",
   "execution_count": 541,
   "metadata": {},
   "outputs": [
    {
     "name": "stdout",
     "output_type": "stream",
     "text": [
      "Column labels: Index(['Firms', 'Emp', 'AvgEmp'], dtype='object')\n",
      "Column labels: Index(['Firms', 'Employees', 'AvgEmp'], dtype='object')\n"
     ]
    }
   ],
   "source": [
    "#6b) Use a dataframe method to change the name of `Emp` to `Employees`\n",
    "print('Column labels:', bds.columns)\n",
    "bds.columns = ['Employees' if x=='Emp' else x for x in bds.columns] \n",
    "print('Column labels:', bds.columns) \n",
    "#or could get index in a for loop and do bds.columns.values[index] ='Employees'\n",
    "#not sure exactly which way you want but you could also create a dict with the new values (changing Emp to \n",
    "#Employees and then do rename to the new dict of columns (columns=new_dict)"
   ]
  },
  {
   "cell_type": "code",
   "execution_count": 455,
   "metadata": {},
   "outputs": [
    {
     "data": {
      "image/png": "[encoded data removed]",
      "text/plain": [
       "<Figure size 432x288 with 1 Axes>"
      ]
     },
     "metadata": {
      "needs_background": "light"
     },
     "output_type": "display_data"
    }
   ],
   "source": [
    "#6c) Create a bar chart of the number of employees in each size category.\n",
    "fig, ax = plt.subplots();\n",
    "bds['Employees'].plot(ax=ax,kind='bar');\n",
    "ax.set_title('Employees in each size category');"
   ]
  },
  {
   "cell_type": "code",
   "execution_count": 473,
   "metadata": {},
   "outputs": [
    {
     "data": {
      "image/png": "[encoded data removed]",
      "text/plain": [
       "<Figure size 432x288 with 1 Axes>"
      ]
     },
     "metadata": {
      "needs_background": "light"
     },
     "output_type": "display_data"
    }
   ],
   "source": [
    "#6d) Create figure and axis objects.\n",
    "fig, ax = plt.subplots();\n",
    "#e) Add a horizontal bar chart of the number of firms in each category to the axis object you created\n",
    "bds['Firms'].plot(kind='barh',color='red'); \n",
    "#f) Make the bars red\n",
    "#g) Add a title\n",
    "ax.set_title('Number of firms by size');\n",
    "ax.set_xlabel('Number of firms');\n",
    "\n"
   ]
  },
  {
   "cell_type": "code",
   "execution_count": 471,
   "metadata": {},
   "outputs": [
    {
     "data": {
      "image/png": "[encoded data removed]",
      "text/plain": [
       "<Figure size 432x288 with 1 Axes>"
      ]
     },
     "metadata": {
      "needs_background": "light"
     },
     "output_type": "display_data"
    }
   ],
   "source": [
    "#h) Change the style to `seaborn-pastel`.\n",
    "from matplotlib import style\n",
    "fig, ax = plt.subplots();\n",
    "bds['Firms'].plot(kind='barh'); \n",
    "ax.set_title('Number of firms by size');\n",
    "ax.set_xlabel('Number of firms');\n",
    "style.use('seaborn-pastel');"
   ]
  },
  {
   "cell_type": "code",
   "execution_count": null,
   "metadata": {},
   "outputs": [],
   "source": []
  }
 ],
 "metadata": {
  "kernelspec": {
   "display_name": "Python 3",
   "language": "python",
   "name": "python3"
  },
  "language_info": {
   "codemirror_mode": {
    "name": "ipython",
    "version": 3
   },
   "file_extension": ".py",
   "mimetype": "text/x-python",
   "name": "python",
   "nbconvert_exporter": "python",
   "pygments_lexer": "ipython3",
   "version": "3.7.0"
  }
 },
 "nbformat": 4,
 "nbformat_minor": 2
}
