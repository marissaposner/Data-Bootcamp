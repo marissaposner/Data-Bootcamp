{
 "cells": [
  {
   "cell_type": "markdown",
   "metadata": {},
   "source": [
    "# Homework 4"
   ]
  },
  {
   "cell_type": "markdown",
   "metadata": {},
   "source": [
    "<div class=\"alert alert-block alert-info\">\n",
    "<b>Code Practice 4:</b> Spring 2019\n",
    "<br>\n",
    "<b> By: </b>Marissa &#9733; Posner\n",
    "</div>\n",
    "\n"
   ]
  },
  {
   "cell_type": "code",
   "execution_count": 14,
   "metadata": {},
   "outputs": [
    {
     "data": {
      "text/plain": [
       "'Marissa P.'"
      ]
     },
     "execution_count": 14,
     "metadata": {},
     "output_type": "execute_result"
    }
   ],
   "source": [
    "#1.\n",
    "first = 'Wilhelmina'\n",
    "last = 'Grubbly-Plank'\n",
    " #Take the ‘first’ and ‘last’ variables defined in the cell below and do the following with them:\n",
    "#a) Extract the first letter of ‘last’.\n",
    "firstletter=last[0];\n",
    "\n",
    "#b) Find a method to split ‘last’ into two components at the hyphen.\n",
    "last.split(\"-\")\n",
    "#c) Define a new string variable named ‘combo’ consisting of ‘first’ (the first name), a space,\n",
    "#the first letter of ‘last’, and a period. ,\n",
    "combo=first+\" \"+firstletter+\".\"\n",
    "\n",
    "#d) Define a function that takes as inputs first and last names (both strings) and returns\n",
    "#‘combo’ (also a string, consisting of the first name plus the first letter of the last name and\n",
    "#a period). Apply it to the variables ‘first’ and ‘last’ and to your own first and last names.\n",
    "def getCombo(first, last):\n",
    "    c=first+\" \"+last[0]+\".\"\n",
    "    return c\n",
    "getCombo(first,last)\n",
    "\n",
    "getCombo('Marissa','Posner')"
   ]
  },
  {
   "cell_type": "code",
   "execution_count": 164,
   "metadata": {},
   "outputs": [
    {
     "name": "stdout",
     "output_type": "stream",
     "text": [
      "Index 31\n",
      "Index 48\n",
      "When we went to town on Monday  - it was so early! -  everyone was falling asleep\n",
      "Index 14\n",
      "Index 25\n",
      "It is obvious  - so obvious -  that I am going to get a good grade on this exam\n",
      "Index 28\n",
      "Index 66\n",
      "As she sang her famous line  - the one they wrote that article about -  the crowd went wild\n",
      "['When we went to town on Monday  - it was so early! -  everyone was falling asleep', 'It is obvious  - so obvious -  that I am going to get a good grade on this exam', 'As she sang her famous line  - the one they wrote that article about -  the crowd went wild']\n"
     ]
    }
   ],
   "source": [
    "#2. Refer to the list of strings below called \"paren\"\n",
    "paren = ['When we went to town on Monday (it was so early!) everyone was falling asleep',\n",
    " 'It is obvious (so obvious) that I am going to get a good grade on this exam',\n",
    " 'As she sang her famous line (the one they wrote that article about) the crowd went wild']\n",
    "\n",
    "#a) Loop through each item of the list and, for each item, replace the parentheses in each\n",
    "#string with a dash (\"-\") so that there is a space on either side of each dash. Print the new\n",
    "#string of each element.\n",
    "\n",
    "#b) For each item in the list, print the index of each of the parentheses.\n",
    "\n",
    "def replaceParens(s):\n",
    "    for num,character in enumerate(s): \n",
    "        if(character==\"(\" or character==\")\"):\n",
    "            print(\"Index \"+ str(num))\n",
    "        s=s.replace(\"(\", \" - \").replace(\")\",\" - \")\n",
    "    print(s)\n",
    "    return s\n",
    "paren=[replaceParens(s) for s in paren]\n",
    "print(paren)\n",
    "\n",
    "\n",
    "\n",
    "\n"
   ]
  },
  {
   "cell_type": "code",
   "execution_count": 12,
   "metadata": {},
   "outputs": [
    {
     "name": "stdout",
     "output_type": "stream",
     "text": [
      "['When we went to town on Monday (it was so early!) everyone was falling asleep', 'It is obvious (so obvious) that I am going to get a good grade on this exam', 'As she sang her famous line (the one they wrote that article about) the crowd went wild']\n"
     ]
    }
   ],
   "source": [
    "#2.c) Create a function that replaces removes the contents of parentheses in a string. This\n",
    "#function should return a new string that has all the content in the old string except for\n",
    "#what is between the two parentheses.\n",
    "paren = ['When we went to town on Monday (it was so early!) everyone was falling asleep',\n",
    " 'It is obvious (so obvious) that I am going to get a good grade on this exam',\n",
    " 'As she sang her famous line (the one they wrote that article about) the crowd went wild']\n",
    "\n",
    "\n",
    "import re\n",
    "\n",
    "def removeParens(s):\n",
    "    result = re.sub(r'\\([^)] *\\)', '',s)\n",
    "    #return s.replace(s[s.find('(')-1:s.find(')')+1],'')\n",
    "    return result\n",
    "\n",
    "#d) Create a new list that contains all the elements of the old list without the contents of the\n",
    "#parentheses\n",
    "new_paren=[removeParens(s) for s in paren]\n",
    "print(new_paren)\n",
    "\n"
   ]
  },
  {
   "cell_type": "code",
   "execution_count": 168,
   "metadata": {},
   "outputs": [
    {
     "data": {
      "text/plain": [
       "1234.5"
      ]
     },
     "execution_count": 168,
     "metadata": {},
     "output_type": "execute_result"
    }
   ],
   "source": [
    "#3. Question 3.\n",
    "#a) What type is \n",
    "dollars = '$1,234.5'\n",
    "#dollars is a string\n",
    "\n",
    "#b) Find and apply a method that eliminates the dollar sign from dollars.\n",
    "dollars=dollars.lstrip('$')\n",
    "\n",
    "\n",
    "#c) Find and apply a method that eliminates the comma from dollars. \n",
    "dollars=dollars.replace(',','')\n",
    "# print(dollars)\n",
    "\n",
    "#d) Eliminate both the dollar sign and comma from dollars and covert the result to a float.\n",
    "dollars=dollars.replace(',','')\n",
    "dollars=dollars.replace('$','')\n",
    "float(dollars) \n",
    "\n",
    "#e) Do part 4 but combined in just one line.\n",
    "float(dollars.replace('$','').replace(',','')) \n"
   ]
  },
  {
   "cell_type": "code",
   "execution_count": 39,
   "metadata": {},
   "outputs": [
    {
     "name": "stdout",
     "output_type": "stream",
     "text": [
      "A\n",
      "B\n",
      "C\n",
      "D\n",
      "Aa\n",
      "Bb\n",
      "Cc\n",
      "Dd\n"
     ]
    }
   ],
   "source": [
    "#4. For this problem we set \n",
    "letters = 'abcd'\n",
    "#a) Find and apply a method that converts the lower case letter 'a' to the upper case letter 'A'.\n",
    "letters.capitalize()\n",
    "#b) Write a loop that goes through the elements of letters and prints their upper case versions.\n",
    "for l in letters: \n",
    "    l=l.upper()\n",
    "    print(l)\n",
    "#c) Write a loop that goes through the elements of letters. On each interation, print a string\n",
    "#consisting of the upper- and lower-case versions together; eg, 'Aa'. \n",
    "for l in letters:\n",
    "    print(l.upper()+l)"
   ]
  },
  {
   "cell_type": "code",
   "execution_count": 172,
   "metadata": {},
   "outputs": [
    {
     "data": {
      "text/plain": [
       "['United', 'States', '1']"
      ]
     },
     "execution_count": 172,
     "metadata": {},
     "output_type": "execute_result"
    }
   ],
   "source": [
    "#5. We ran across this one in the OECD healthcare data. The country names had numbers appended, which served as \n",
    "#footnotes in the original spreadsheet but looked dumb when we used them as index labels. The question is how to \n",
    "#eliminate them. A short version of the country names is\n",
    "names = ['Australia 1', 'Canada 2', 'Chile 3', 'United States 1']\n",
    "#a) Set us = names[-1] and call the rsplit() method on us. What do you get?\n",
    "us=names[-1]\n",
    "us.rsplit()\n",
    "#['United', 'States', '1']"
   ]
  },
  {
   "cell_type": "code",
   "execution_count": 179,
   "metadata": {},
   "outputs": [
    {
     "data": {
      "text/plain": [
       "'United States'"
      ]
     },
     "execution_count": 179,
     "metadata": {},
     "output_type": "execute_result"
    }
   ],
   "source": [
    "#5b) Consult the documentation for rsplit to split us into two pieces, the country name and the\n",
    "#number 1. How would you extract just the country name?\n",
    "usSplit=us.rsplit()\n",
    "usSplit=usSplit[:len(usSplit)-1] #get US\n",
    "usSplit=\" \".join(usSplit)\n",
    "usSplit\n",
    "\n",
    "#names[-1].rsplit(maxsplit=1)"
   ]
  },
  {
   "cell_type": "code",
   "execution_count": 180,
   "metadata": {},
   "outputs": [
    {
     "name": "stdout",
     "output_type": "stream",
     "text": [
      "Australia\n",
      "Canada\n",
      "Chile\n",
      "United States\n"
     ]
    }
   ],
   "source": [
    "#5c) Use a loop to strip the numbers from all of the elements of names.\n",
    "for name in names:\n",
    "    name=name.rsplit()\n",
    "    name=\" \".join(name[:len(name)-1])\n",
    "    print(name)\n",
    "    "
   ]
  },
  {
   "cell_type": "code",
   "execution_count": 181,
   "metadata": {},
   "outputs": [
    {
     "data": {
      "text/plain": [
       "['Australia', 'Canada', 'Chile', 'United States']"
      ]
     },
     "execution_count": 181,
     "metadata": {},
     "output_type": "execute_result"
    }
   ],
   "source": [
    "#5d) Use a list comprehension to strip the numbers from all the elements of names. \n",
    "[\" \".join(name.rsplit()[:len(name.rsplit())-1]) for name in names]\n",
    "#[i.rsplit(maxsplit=1)[0] for i in names]"
   ]
  },
  {
   "cell_type": "code",
   "execution_count": 17,
   "metadata": {},
   "outputs": [
    {
     "name": "stdout",
     "output_type": "stream",
     "text": [
      "Data types:\n",
      "Timestamp                                                                                               object\n",
      "What program are you enrolled in?                                                                       object\n",
      "What career path most interests you?                                                                    object\n",
      "How much programming experience have you had?                                                           object\n",
      "How much experience with probability and statistics have you had?                                       object\n",
      "Do you use social media for information purposes?  Check all that apply.                                object\n",
      "Other comments (optional)                                                                              float64\n",
      "What is your expected major or concentration?                                                           object\n",
      "What kinds of data most interest you?  List any that cross your mind.                                   object\n",
      "Why have you enrolled in this course?                                                                   object\n",
      "If we have time -- and we may not -- what special topics would interest you?  Check all that apply.     object\n",
      "dtype: object\n"
     ]
    },
    {
     "data": {
      "text/plain": [
       "MBA                             46\n",
       "Undergraduate business          36\n",
       "Other undergraduate             13\n",
       "Old Fellow                       2\n",
       "PhD                              1\n",
       "Economics                        1\n",
       "UG econ (CAS)                    1\n",
       "Wharton UGR                      1\n",
       "Mathematics Masters, Courant     1\n",
       "auditing                         1\n",
       "Name: Program, dtype: int64"
      ]
     },
     "execution_count": 17,
     "metadata": {},
     "output_type": "execute_result"
    }
   ],
   "source": [
    "#6. Use read_csv() to read the responses of a previous semesters entry poll from\n",
    "\n",
    "import pandas as pd\n",
    "#a) Read the file and assign it to the variable ep.\n",
    "url1  = 'http://pages.stern.nyu.edu/~dbackus/Data/'\n",
    "url2 = 'Data-Bootcamp-entry-poll_s16.csv'\n",
    "url = url1 + url2\n",
    "ep = pd.read_csv(url)\n",
    "\n",
    "#b) Describe its contents. What are the variables? The responses?\n",
    "ep.head()\n",
    "#The variables are the timestamp, which program people are in, which career path they are interested in, \n",
    "#amount of experience with programming, amount of experience with probability/statistics, \n",
    "#asking if they use social media for information purposes, other comments, expected major, \n",
    "#which kinds of data they are interested in, why they enrolled in the course, special topics they are interested in \n",
    "\n",
    "#The responses are either qualitative or checking boxes. They are all descriptive variables except for the timestamp \n",
    "#An example response for career path would be entrepreneurship \n",
    "#or for reason for enrolling one guy say \"I lost my mind for a minute\"\n",
    "\n",
    "#c) What data types are the variables?\n",
    "print('Data types:\\n', ep.dtypes, sep='')\n",
    "\n",
    "#d) Change the variable names to something shorter.\n",
    "\n",
    "ep.columns=['Time', 'Program', 'Career Path', 'Programming Experience', 'Statistics Experience','Social Media Use','Comments','Major','Data of Interest','Reason for Enrolling','Special Topics']\n",
    "\n",
    "ep\n",
    "#e) Describe what this code does:\n",
    "\n",
    "ep[list(ep)[1]].value_counts()\n",
    "#counts the values for each unique value in the 1st column of the dataframe (which program participants are enrolled in)\n",
    "#list(ep)[1] creates a list out of all the values in the 1 column in the ep dataframe\n",
    "#.value_counts() sums the # of times each value occurs  \n"
   ]
  }
 ],
 "metadata": {
  "kernelspec": {
   "display_name": "Python 3",
   "language": "python",
   "name": "python3"
  },
  "language_info": {
   "codemirror_mode": {
    "name": "ipython",
    "version": 3
   },
   "file_extension": ".py",
   "mimetype": "text/x-python",
   "name": "python",
   "nbconvert_exporter": "python",
   "pygments_lexer": "ipython3",
   "version": "3.7.0"
  }
 },
 "nbformat": 4,
 "nbformat_minor": 2
}
