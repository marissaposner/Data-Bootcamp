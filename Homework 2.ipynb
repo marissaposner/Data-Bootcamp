{
 "cells": [
  {
   "cell_type": "markdown",
   "metadata": {},
   "source": [
    "# Homework 2\n"
   ]
  },
  {
   "cell_type": "markdown",
   "metadata": {},
   "source": [
    "<div class=\"alert alert-block alert-info\">\n",
    "<b>Code Practice 2:</b> Spring 2019\n",
    "<br>\n",
    "<b> By: </b>Marissa &#9733; Posner\n",
    "</div>\n"
   ]
  },
  {
   "cell_type": "markdown",
   "metadata": {},
   "source": [
    "1.Explain the result of each line:<br>\n",
    "type(42) #int <br>\n",
    "type(42.0) #float<br>\n",
    "type('42.0') #str<br>\n",
    "type(\"42.0\") #str<br>\n",
    "type(\"\"\"42.0\"\"\") #str<br>\n",
    "type([1, 2]) #list<br>\n",
    "type([1] + [2]) #list<br>\n",
    "type(1 + 2) #int =3<br>\n",
    "type(print) #builtin_function_or_method bc print is a func<br>"
   ]
  },
  {
   "cell_type": "markdown",
   "metadata": {},
   "source": [
    "2. Describe and explain the result of this statement:<br>\n",
    "type(float(str(int('1234')))) <br>\n",
    "\n",
    "#float because you cast the string as an int and then cast it back to a string and then to a float and since the type is of the whole expression, it is of type float"
   ]
  },
  {
   "cell_type": "markdown",
   "metadata": {},
   "source": [
    "3. Describe and explain the result of this statement:<br>\n",
    "type(int(float('12.34'))) <br>\n",
    "\n",
    "#int because it is a string (of a float) that you cast to a float and then cast to an int so if you were to print this, it would print 12 since int rounds down"
   ]
  },
  {
   "cell_type": "markdown",
   "metadata": {},
   "source": [
    "4. Explain each line:<br>\n",
    "len([1234]) #len=1 because the len function counts the number of items in an object so there is only 1 item<br>\n",
    "len(\"1234\") #len=4 because 4 is the length of the string<br>\n",
    "len(1234) #error because you cant take the length of an int object. if you wanted to do this you would have to cast it as a String and then get the len of that<br>"
   ]
  },
  {
   "cell_type": "markdown",
   "metadata": {},
   "source": [
    "5. What are the type and length of x = []?<br>\n",
    "x=[]<br>\n",
    "type(x) #list <br>\n",
    "len(x)=0 bc no items in list<br>"
   ]
  },
  {
   "cell_type": "code",
   "execution_count": 46,
   "metadata": {},
   "outputs": [
    {
     "name": "stdout",
     "output_type": "stream",
     "text": [
      "['a', 'b', 'c', 'd', 'e']\n"
     ]
    }
   ],
   "source": [
    "#6.Convert the string x = 'abcde' to a list. What does it look like?\n",
    "x='abcde'\n",
    "def stringToList(x):\n",
    "    mylist=[]\n",
    "    for i in range(0,len(x)):\n",
    "        mylist.append(x[i])\n",
    "    return mylist\n",
    "print(stringToList(x))\n",
    "\n",
    "#['a', 'b', 'c', 'd', 'e']"
   ]
  },
  {
   "cell_type": "code",
   "execution_count": 56,
   "metadata": {},
   "outputs": [
    {
     "name": "stdout",
     "output_type": "stream",
     "text": [
      "['1', '2', '3', '4']\n"
     ]
    },
    {
     "data": {
      "text/plain": [
       "[1, 2, 3, 4]"
      ]
     },
     "execution_count": 56,
     "metadata": {},
     "output_type": "execute_result"
    }
   ],
   "source": [
    "#7. Consider the integer x = 1234.\n",
    "x=1234\n",
    "#a. Convert x to a floating point number.\n",
    "float(x) #x=1234.0\n",
    "#b. Convert x to a string.\n",
    "str(x) #x='1234'\n",
    "#c. Convert x to the list: ['1', '2', '3', '4']\n",
    "print(stringToList(str(x))) #use func from above but has to be str before you can conv to list if using function from above\n",
    "#could also do it \n",
    "def intList(n):\n",
    "    q = n\n",
    "    toReturn = [] #create empty list\n",
    "    while q != 0:\n",
    "        q, r = divmod(q, 10) # Divide by 10, see the remainder\n",
    "        toReturn.insert(0, r) #remainder=first to the right digit\n",
    "    return toReturn\n",
    "intList(x)"
   ]
  },
  {
   "cell_type": "code",
   "execution_count": 63,
   "metadata": {},
   "outputs": [
    {
     "data": {
      "text/plain": [
       "'Luke, I Am Your Father'"
      ]
     },
     "execution_count": 63,
     "metadata": {},
     "output_type": "execute_result"
    }
   ],
   "source": [
    "#8. Challenging. How would you convert x to “title case\" (first letter of each word capitalized)?\n",
    "#Hint: Use tab completion to find an appropriate method.\n",
    "x = \"luke, i am your father\"\n",
    "x.title() "
   ]
  },
  {
   "cell_type": "code",
   "execution_count": null,
   "metadata": {},
   "outputs": [],
   "source": [
    "#9. Challenging. Consider the string\n",
    "x = \"How many characters and words are in this string?\"\n",
    "#a. How many characters does x contain?\n",
    "len(x) #49\n",
    "#b. Convert x to a list of individual characters.\n",
    "def stringToList(x):\n",
    "    mylist=[]\n",
    "    for i in range(0,len(x)):\n",
    "        mylist.append(x[i])\n",
    "    return mylist\n",
    "print(stringToList(x)) \n",
    "import re,string\n",
    "#c. Convert x to a list of individual words. Hint: Use tab completion to find a method that splits x into pieces.\n",
    "newList=x.split(sep=\" \") #split on space \n",
    "print(newList)\n",
    "#d. How many words does x contain?\n",
    "#len(newList) #9 words"
   ]
  },
  {
   "cell_type": "code",
   "execution_count": 99,
   "metadata": {},
   "outputs": [
    {
     "ename": "TypeError",
     "evalue": "can only concatenate list (not \"str\") to list",
     "output_type": "error",
     "traceback": [
      "\u001b[0;31m---------------------------------------------------------------------------\u001b[0m",
      "\u001b[0;31mTypeError\u001b[0m                                 Traceback (most recent call last)",
      "\u001b[0;32m<ipython-input-99-a0a2be7992d4>\u001b[0m in \u001b[0;36m<module>\u001b[0;34m()\u001b[0m\n\u001b[1;32m      2\u001b[0m \u001b[0mx\u001b[0m \u001b[0;34m=\u001b[0m \u001b[0;34m[\u001b[0m\u001b[0;36m1\u001b[0m\u001b[0;34m,\u001b[0m \u001b[0;36m2\u001b[0m\u001b[0;34m,\u001b[0m \u001b[0;36m3\u001b[0m\u001b[0;34m]\u001b[0m\u001b[0;34m\u001b[0m\u001b[0m\n\u001b[1;32m      3\u001b[0m \u001b[0my\u001b[0m \u001b[0;34m=\u001b[0m \u001b[0;34m'bootcamp'\u001b[0m\u001b[0;34m\u001b[0m\u001b[0m\n\u001b[0;32m----> 4\u001b[0;31m \u001b[0mz\u001b[0m \u001b[0;34m=\u001b[0m \u001b[0mx\u001b[0m \u001b[0;34m+\u001b[0m \u001b[0my\u001b[0m\u001b[0;34m\u001b[0m\u001b[0m\n\u001b[0m\u001b[1;32m      5\u001b[0m \u001b[0;31m#NO. Cannot concatenate two mismatched data types (i.e. list in string in this case). They have to be the same\u001b[0m\u001b[0;34m\u001b[0m\u001b[0;34m\u001b[0m\u001b[0m\n",
      "\u001b[0;31mTypeError\u001b[0m: can only concatenate list (not \"str\") to list"
     ]
    }
   ],
   "source": [
    "#10. Review. Does this code run without error? If so, what does it produce? If not, explain why.\n",
    "x = [1, 2, 3]\n",
    "y = 'bootcamp'\n",
    "z = x + y\n",
    "#NO. Cannot concatenate two mismatched data types (i.e. list in string in this case). They have to be the same"
   ]
  },
  {
   "cell_type": "markdown",
   "metadata": {},
   "source": [
    "11. Review. For the same x and y as the previous question: What function tells us what type\n",
    "they are? What function tells us how many elements they contain?<br>\n",
    "\n",
    "type(x) tells us what type x is and len(x) tells us how many elements it contains<br>"
   ]
  },
  {
   "cell_type": "markdown",
   "metadata": {},
   "source": [
    "12. What type is each expression? How can you tell?<br>\n",
    "2 #int because its a number<br>\n",
    "'2' #string bc of the quotes<br>\n",
    "2.0 #float bc of the decimal point<br>\n",
    "\"2.0\" #string bc of the quotes<br>\n",
    "2>1 #bool bc of the comparison <br>\n",
    "'Itamar' > 'Chase' #bool bc of the comparison <br>\n",
    "[1, 2] #list because []<br>\n",
    "(1, 2) #tuple because of the ()<br>\n",
    "{1: 'one', 2: 'two'} #dict because of the {} and the key value pairs<br>"
   ]
  },
  {
   "cell_type": "markdown",
   "metadata": {},
   "source": [
    "#13. What value does each of these comparisons have?<br>\n",
    "1>=0 #true<br>\n",
    "1 >= 1 #true<br>\n",
    "1 > 1 #false<br>\n",
    "1==1 #true<br>\n",
    "1 == 1.0 #true<br>\n",
    "'Spencer' == \"Spencer\" #true<br>\n",
    "2**3 > 3**2 #false<br>\n",
    "1 >= 0 or 1 <= 2 #true <br>\n",
    "1 >= 0 and 1 <= 2 #true <br>"
   ]
  },
  {
   "cell_type": "code",
   "execution_count": 122,
   "metadata": {},
   "outputs": [
    {
     "name": "stdout",
     "output_type": "stream",
     "text": [
      "Yes, 2 is still greater than 1\n"
     ]
    }
   ],
   "source": [
    "#14. Does this code run without error? If so, what does it produce? If not, how would youcorrect it?\n",
    "#Does not run so fixed it: because you need :\n",
    "if 2>1:\n",
    "    print('Yes, 2 is still greater than 1')"
   ]
  },
  {
   "cell_type": "code",
   "execution_count": 123,
   "metadata": {},
   "outputs": [
    {
     "name": "stdout",
     "output_type": "stream",
     "text": [
      "on the one hand\n"
     ]
    }
   ],
   "source": [
    "#15. What is the result of running this code? Why?\n",
    "if True:\n",
    "    print('on the one hand')\n",
    "else:\n",
    "    print('but on the other hand')\n",
    "    \n",
    "#prints \"on the one hand\" bc default to true\n"
   ]
  },
  {
   "cell_type": "code",
   "execution_count": 128,
   "metadata": {},
   "outputs": [
    {
     "name": "stdout",
     "output_type": "stream",
     "text": [
      "on the one hand\n"
     ]
    }
   ],
   "source": [
    "#What happens if we replace True with False in the first line? \n",
    "if False:\n",
    "    print('on the one hand')\n",
    "else:\n",
    "    print('but on the other hand')\n",
    "    \n",
    "#prints \"on the one hand\" bc default to true"
   ]
  },
  {
   "cell_type": "code",
   "execution_count": 129,
   "metadata": {},
   "outputs": [
    {
     "name": "stdout",
     "output_type": "stream",
     "text": [
      "but on the other hand\n"
     ]
    }
   ],
   "source": [
    "#What happens if we insert the word not after if in the first line?\n",
    "if not True:\n",
    "    print('on the one hand')\n",
    "else:\n",
    "    print('but on the other hand')\n",
    "#prints but on the other hand"
   ]
  },
  {
   "cell_type": "code",
   "execution_count": 131,
   "metadata": {},
   "outputs": [
    {
     "name": "stdout",
     "output_type": "stream",
     "text": [
      "Chase\n"
     ]
    }
   ],
   "source": [
    "#16. What is the result of running this code?\n",
    "cond = True\n",
    "if cond:\n",
    "    x = \"Chase\"\n",
    "else:\n",
    "    x = \"Dave\"\n",
    "print(x)\n",
    "#prints Chase bc set cond to true so executes that block"
   ]
  },
  {
   "cell_type": "code",
   "execution_count": 135,
   "metadata": {},
   "outputs": [
    {
     "name": "stdout",
     "output_type": "stream",
     "text": [
      "x has more\n"
     ]
    }
   ],
   "source": [
    "#17. Suppose we have two lists, x = [1, 2, 3, 4] and y = ['x', 'y', 'z']. \n",
    "#Adapt the code below to determine which has more elements:\n",
    "x = [1, 2, 3, 4]\n",
    "y = ['x', 'y', 'z']\n",
    "if len(x)>len(y):\n",
    "    print('x has more')\n",
    "else:\n",
    "    print(\"y has at least as many\")"
   ]
  },
  {
   "cell_type": "markdown",
   "metadata": {},
   "source": [
    "18. Explain in words what slicing does.<br>\n",
    "Slicing splits up a given sequence into a slice, or piece, of the whole sequence as specified by index\n"
   ]
  },
  {
   "cell_type": "code",
   "execution_count": 142,
   "metadata": {},
   "outputs": [
    {
     "data": {
      "text/plain": [
       "[1, 2, 3, 4]"
      ]
     },
     "execution_count": 142,
     "metadata": {},
     "output_type": "execute_result"
    }
   ],
   "source": [
    "#19. How would you extract (slice) the first element (the integer 1) from the list x below? the\n",
    "#last element? All but the last element?\n",
    "x = [1, 2, 3, 4, 5]\n",
    "x[0]\n",
    "x[4]\n",
    "x[0:4] #not including the last number "
   ]
  },
  {
   "cell_type": "code",
   "execution_count": 7,
   "metadata": {},
   "outputs": [
    {
     "name": "stdout",
     "output_type": "stream",
     "text": [
      "['This', 'is', 'a', 'sentence', 'please', 'slice', 'it']\n"
     ]
    }
   ],
   "source": [
    "#20. Use slicing to extract each word from\n",
    "sentence = 'This is a sentence; please slice it.'\n",
    "newList=[sentence[0:4], sentence[5:7], sentence[8:9],sentence[10:18], sentence[20:26], sentence[27:32], sentence[33:35]]\n",
    "print(newList)\n",
    "#Suggestion: Number every character in sentence by hand."
   ]
  },
  {
   "cell_type": "code",
   "execution_count": null,
   "metadata": {},
   "outputs": [],
   "source": []
  },
  {
   "cell_type": "code",
   "execution_count": null,
   "metadata": {},
   "outputs": [],
   "source": []
  },
  {
   "cell_type": "code",
   "execution_count": null,
   "metadata": {},
   "outputs": [],
   "source": []
  }
 ],
 "metadata": {
  "kernelspec": {
   "display_name": "Python 3",
   "language": "python",
   "name": "python3"
  },
  "language_info": {
   "codemirror_mode": {
    "name": "ipython",
    "version": 3
   },
   "file_extension": ".py",
   "mimetype": "text/x-python",
   "name": "python",
   "nbconvert_exporter": "python",
   "pygments_lexer": "ipython3",
   "version": "3.7.0"
  }
 },
 "nbformat": 4,
 "nbformat_minor": 2
}
