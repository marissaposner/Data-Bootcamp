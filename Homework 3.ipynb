{
 "cells": [
  {
   "cell_type": "code",
   "execution_count": 3,
   "metadata": {},
   "outputs": [
    {
     "data": {
      "text/plain": [
       "['b', 'fast', 'slow', 3]"
      ]
     },
     "execution_count": 3,
     "metadata": {},
     "output_type": "execute_result"
    }
   ],
   "source": [
    "#1. Consider the list\n",
    "x = [1, 2, \"a\", 'b', \"fast\", 'slow', 3, \"Raghu\", 'Liuren', 10]\n",
    "#a. How would you slice out the first item? The last item?\n",
    "x[0] #first \n",
    "x[-1] #last\n",
    "#b. How would you slice out the items from 'b' to 3 inclusive?\n",
    "x[3:7] "
   ]
  },
  {
   "cell_type": "code",
   "execution_count": 11,
   "metadata": {},
   "outputs": [
    {
     "name": "stdout",
     "output_type": "stream",
     "text": [
      "1\n",
      "2\n",
      "a\n",
      "b\n",
      "fast\n",
      "slow\n",
      "3\n",
      "Raghu\n",
      "Liuren\n",
      "10\n"
     ]
    }
   ],
   "source": [
    "#2. Using the same list x, write a loop that prints every element on a new line.\n",
    "for i in x:\n",
    "    print(i)"
   ]
  },
  {
   "cell_type": "code",
   "execution_count": 10,
   "metadata": {},
   "outputs": [
    {
     "name": "stdout",
     "output_type": "stream",
     "text": [
      "a\n",
      "b\n",
      "fast\n",
      "slow\n",
      "Raghu\n",
      "Liuren\n"
     ]
    }
   ],
   "source": [
    "#3. Using the same list x, write a loop that prints every element of type str.\n",
    "for i in x: \n",
    "    if type(i)==str:\n",
    "        print(i)"
   ]
  },
  {
   "cell_type": "code",
   "execution_count": 15,
   "metadata": {},
   "outputs": [
    {
     "data": {
      "text/plain": [
       "[3, 5, 7, 9, 11]"
      ]
     },
     "execution_count": 15,
     "metadata": {},
     "output_type": "execute_result"
    }
   ],
   "source": [
    "#4. Use the help function in Jupyter to find out what the range function does. How would\n",
    "#you describe range(3,12,2)? \n",
    "\n",
    "#The range function generates a list of numbers. \n",
    "#In this case the list goes from 3 to 12 (not inclusive) and skips by 2\n",
    "#So the list would be 3,5,7,9,11\n",
    "\n",
    "#Verify by converting to a list with list(range(3,12,2)).\n",
    "list(range(3,12,2))\n"
   ]
  },
  {
   "cell_type": "markdown",
   "metadata": {},
   "source": [
    "5. Explain what this code does:<br>\n",
    "old_list = [1234, 6783, 6, 4321, 9876]<br>\n",
    "new_list = [x for x in old_list if str(x)[0] != \"6\"]<br>\n",
    "Thew new_list iterates through the old_list and if the number at the first position (x[0]) is not equal to 6, then add that number to the new_list. <br>"
   ]
  },
  {
   "cell_type": "code",
   "execution_count": 20,
   "metadata": {},
   "outputs": [
    {
     "name": "stdout",
     "output_type": "stream",
     "text": [
      "165\n"
     ]
    }
   ],
   "source": [
    "#. 6. Write a loop that sums the integers from zero to thirty that are multiples of three: 3, 6, etc\n",
    "sum=0\n",
    "for i in range(0,31):\n",
    "    if i%3==0:\n",
    "        sum+=i\n",
    "        \n",
    "print(sum)"
   ]
  },
  {
   "cell_type": "markdown",
   "metadata": {},
   "source": [
    "7. Consider the Python object <br>\n",
    "z = {1: 'one', 2: 'two', 3: 'three'}<br>\n",
    "\n",
    "a. What kind of object is z? What is its length? <br>\n",
    "Z is a dictionary with length 3<br>\n",
    "\n",
    "b. Which components are keys? Which are values?<br>\n",
    "The keys are 1,2,3. Values are 'one,' 'two,' 'three' <br>\n",
    "\n",
    "c. How would I get the value associated with the key 2?<br>\n",
    "z[2] <br>\n",
    "\n",
    "d. Use Jupyter's help facilities to figure out what z.keys() does. Ditto z.values(). Try\n",
    "them to verify.<br>\n",
    "z.keys() gets all the keys. z.values() gets all the values. <br>\n",
    "\n",
    "e. What does list(z.keys()) do?<br>\n",
    "list(z.keys()) puts all z's keys in a list <br>\n",
    "\n",
    "f. What does list(z.values()) do?<br>\n",
    "list(z.values()) puts all of z's values in a list <br>\n",
    "\n",
    "g. What does list(z) do?<br>\n",
    "list(z) is a list of the keys in a dictionary"
   ]
  },
  {
   "cell_type": "code",
   "execution_count": 4,
   "metadata": {},
   "outputs": [
    {
     "data": {
      "text/plain": [
       "[1, 1]"
      ]
     },
     "execution_count": 4,
     "metadata": {},
     "output_type": "execute_result"
    }
   ],
   "source": [
    "#8. What will be the output of the below code:\n",
    "def foo (i= []):\n",
    " i.append (1)\n",
    " return i\n",
    "foo ()\n",
    "foo ()\n",
    "#output = list: [1,1] bc appends 1 to list "
   ]
  },
  {
   "cell_type": "code",
   "execution_count": 1,
   "metadata": {},
   "outputs": [
    {
     "data": {
      "text/plain": [
       "[1, 2, 3, 4, 5, 6, 7, 8, 9]"
      ]
     },
     "execution_count": 1,
     "metadata": {},
     "output_type": "execute_result"
    }
   ],
   "source": [
    "#9. Assume, you are given two lists:\n",
    "import numpy as np\n",
    "a = [1,2,3,4,5]\n",
    "b = [6,7,8,9]\n",
    "c=a+b\n",
    "c\n",
    "#The task is to create a list which has all the elements of a and b in one dimension\n"
   ]
  },
  {
   "cell_type": "code",
   "execution_count": 4,
   "metadata": {},
   "outputs": [
    {
     "name": "stdout",
     "output_type": "stream",
     "text": [
      "$1.41\n"
     ]
    }
   ],
   "source": [
    "#10.  Define a function pocket_change() that takes four integers as inputs (numbers of\n",
    "#pennies,nickels, dimes, and quarters in your pocket) and returns a floating point number\n",
    "#(their dollar value).\n",
    "total=0\n",
    "def pocket_change(pennies, nickels, dimes, quarters):\n",
    "    total = pennies + 5*nickels + 10*dimes + 25*quarters\n",
    "    return total/100\n",
    "total=pocket_change(1,2,3,4)\n",
    "print('$' + str(total))\n",
    "#Run your program with the input (1, 2, 3, 4).\n",
    "#Bonus (optional): Report the value with a dollar sign"
   ]
  },
  {
   "cell_type": "code",
   "execution_count": 14,
   "metadata": {},
   "outputs": [
    {
     "data": {
      "text/plain": [
       "['1234', '4321', '9876']"
      ]
     },
     "execution_count": 14,
     "metadata": {},
     "output_type": "execute_result"
    }
   ],
   "source": [
    "#11. Write a function notsix() that takes a list of integers and returns a (shorter)\n",
    "#list of only those that do not begin with a 6.\n",
    "def notsix(intlist):\n",
    "    newList=[]\n",
    "    for num in intlist:\n",
    "        strNum=str(num)\n",
    "        if strNum[0]!='6':\n",
    "            newList.append(strNum)\n",
    "    return newList\n",
    "r=notsix([1234, 6783, 6, 4321,9876])\n",
    "r\n",
    "#Hints: You can create a blank list with x = []. You can append item to it with\n",
    "#x.append(item)."
   ]
  },
  {
   "cell_type": "code",
   "execution_count": 23,
   "metadata": {},
   "outputs": [
    {
     "name": "stdout",
     "output_type": "stream",
     "text": [
      "buzz\n",
      "buzz\n",
      "fizz\n",
      "buzz\n",
      "5\n",
      "fizz\n",
      "buzz\n",
      "buzz\n",
      "fizz\n",
      "10\n",
      "buzz\n",
      "fizz\n",
      "buzz\n",
      "buzz\n",
      "fizzbuzz\n",
      "buzz\n",
      "buzz\n",
      "fizz\n",
      "buzz\n",
      "20\n",
      "fizz\n",
      "buzz\n",
      "buzz\n",
      "fizz\n",
      "5.0\n",
      "buzz\n",
      "fizz\n",
      "buzz\n",
      "buzz\n",
      "fizzbuzz\n",
      "buzz\n",
      "buzz\n",
      "fizz\n",
      "buzz\n",
      "5.916079783099616\n",
      "fizz\n",
      "buzz\n",
      "buzz\n",
      "fizz\n",
      "6.324555320336759\n",
      "buzz\n",
      "fizz\n",
      "buzz\n",
      "buzz\n",
      "fizzbuzz\n",
      "buzz\n",
      "buzz\n",
      "fizz\n",
      "buzz\n"
     ]
    }
   ],
   "source": [
    "#12. Write a program that loops over a list of integers from 1 to 50, and for each integer\n",
    "#prints out \"fizz\" if the integer is only divisible by 3 ; and \"buzz\" if it is only divisible by 5;\n",
    "#if the integer is divisible by 3 and 5 print out \"fizzbuzz\" ; if the integer is not divisible by\n",
    "#any of those and less than 25, print the value of the integer ; if the integer is not\n",
    "#divisible by any of those and greater than 25, print the square root of the integer\n",
    "import math\n",
    "for i in range(1,50):\n",
    "    if i%15==0: \n",
    "        print(\"fizzbuzz\")\n",
    "    elif i%3==0: \n",
    "        print(\"fizz\")\n",
    "    elif i%5: \n",
    "        print(\"buzz\")\n",
    "    elif i<25:\n",
    "        print(i)\n",
    "    else:\n",
    "        print(math.sqrt(i))"
   ]
  },
  {
   "cell_type": "code",
   "execution_count": null,
   "metadata": {},
   "outputs": [],
   "source": []
  }
 ],
 "metadata": {
  "kernelspec": {
   "display_name": "Python 3",
   "language": "python",
   "name": "python3"
  },
  "language_info": {
   "codemirror_mode": {
    "name": "ipython",
    "version": 3
   },
   "file_extension": ".py",
   "mimetype": "text/x-python",
   "name": "python",
   "nbconvert_exporter": "python",
   "pygments_lexer": "ipython3",
   "version": "3.7.0"
  }
 },
 "nbformat": 4,
 "nbformat_minor": 2
}
