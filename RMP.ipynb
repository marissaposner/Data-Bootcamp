{
 "cells": [
  {
   "cell_type": "code",
   "execution_count": 12,
   "metadata": {},
   "outputs": [
    {
     "name": "stdout",
     "output_type": "stream",
     "text": [
      "{'tDept': 'Computer Science', 'tSid': '399', 'institution_name': 'Harvard University', 'tFname': 'Stack', 'tMiddlename': '', 'tLname': 'Overflow', 'tid': 2235845, 'tNumRatings': 43, 'rating_class': 'good', 'contentType': 'TEACHER', 'categoryType': 'PROFESSOR', 'overall_rating': '4.7'}\n",
      "4.7\n",
      "{'tDept': 'Computer Science', 'tSid': '675', 'institution_name': 'New York University', 'tFname': 'Anasse', 'tMiddlename': '', 'tLname': 'Bari', 'tid': 2094203, 'tNumRatings': 81, 'rating_class': 'good', 'contentType': 'TEACHER', 'categoryType': 'PROFESSOR', 'overall_rating': '4.4'}\n",
      "4.4\n"
     ]
    },
    {
     "data": {
      "text/plain": [
       "'4.4'"
      ]
     },
     "execution_count": 12,
     "metadata": {},
     "output_type": "execute_result"
    }
   ],
   "source": [
    "import requests\n",
    "import json\n",
    "import math\n",
    "\n",
    "class RateMyProfScraper:\n",
    "        def __init__(self,schoolid):\n",
    "            self.UniversityId = schoolid\n",
    "            self.professorlist = self.createprofessorlist()\n",
    "            self.indexnumber = False\n",
    "\n",
    "        def createprofessorlist(self):#creates List object that include basic information on all Professors from the IDed University\n",
    "            tempprofessorlist = []\n",
    "            num_of_prof = self.GetNumOfProfessors(self.UniversityId)\n",
    "            num_of_pages = math.ceil(num_of_prof / 20)\n",
    "            i = 1\n",
    "            while (i <= num_of_pages):# the loop insert all professor into list\n",
    "                page = requests.get(\"http://www.ratemyprofessors.com/filter/professor/?&page=\" + str(\n",
    "                    i) + \"&filter=teacherlastname_sort_s+asc&query=*%3A*&queryoption=TEACHER&queryBy=schoolId&sid=\" + str(\n",
    "                    self.UniversityId))\n",
    "                temp_jsonpage = json.loads(page.content)\n",
    "                temp_list = temp_jsonpage['professors']\n",
    "                tempprofessorlist.extend(temp_list)\n",
    "                i += 1\n",
    "            return tempprofessorlist\n",
    "\n",
    "        def GetNumOfProfessors(self,id):  # function returns the number of professors in the university of the given ID.\n",
    "            page = requests.get(\n",
    "                \"http://www.ratemyprofessors.com/filter/professor/?&page=1&filter=teacherlastname_sort_s+asc&query=*%3A*&queryoption=TEACHER&queryBy=schoolId&sid=\" + str(\n",
    "                    id))  # get request for page\n",
    "            temp_jsonpage = json.loads(page.content)\n",
    "            num_of_prof = temp_jsonpage[\n",
    "                              'remaining'] + 20  # get the number of professors at William Paterson University\n",
    "            return num_of_prof\n",
    "\n",
    "        def SearchProfessor(self, ProfessorName):\n",
    "            self.indexnumber = self.GetProfessorIndex(ProfessorName)\n",
    "            self.PrintProfessorInfo()\n",
    "            return self.indexnumber\n",
    "\n",
    "        def GetProfessorIndex(self,ProfessorName):  # function searches for professor in list\n",
    "            for i in range(0, len(self.professorlist)):\n",
    "                if (ProfessorName == (self.professorlist[i]['tFname'] + \" \" + self.professorlist[i]['tLname'])):\n",
    "                    return i\n",
    "            return False  # Return False is not found\n",
    "\n",
    "        def PrintProfessorInfo(self):  # print search professor's name and RMP score\n",
    "            if self.indexnumber == False:\n",
    "                print(\"error\")\n",
    "            else:\n",
    "                print(self.professorlist[self.indexnumber])\n",
    "\n",
    "        def PrintProfessorDetail(self,key):  # print search professor's name and RMP score\n",
    "            if self.indexnumber == False:\n",
    "                print(\"error\")\n",
    "                return \"error\"\n",
    "            else:\n",
    "                print(self.professorlist[self.indexnumber][key])\n",
    "                return self.professorlist[self.indexnumber][key]\n",
    "\n",
    "\n",
    "Harvard = RateMyProfScraper(399)\n",
    "Harvard.SearchProfessor(\"Stack Overflow\")\n",
    "Harvard.PrintProfessorDetail(\"overall_rating\")\n",
    "\n",
    "NYU = RateMyProfScraper(675) #number=sid in url\n",
    "NYU.SearchProfessor(\"Anasse Bari\")\n",
    "NYU.PrintProfessorDetail(\"overall_rating\")"
   ]
  },
  {
   "cell_type": "code",
   "execution_count": 17,
   "metadata": {},
   "outputs": [
    {
     "ename": "SyntaxError",
     "evalue": "invalid syntax (<ipython-input-17-afdc46739902>, line 7)",
     "output_type": "error",
     "traceback": [
      "\u001b[0;36m  File \u001b[0;32m\"<ipython-input-17-afdc46739902>\"\u001b[0;36m, line \u001b[0;32m7\u001b[0m\n\u001b[0;31m    print extractor.getText()\u001b[0m\n\u001b[0m                  ^\u001b[0m\n\u001b[0;31mSyntaxError\u001b[0m\u001b[0;31m:\u001b[0m invalid syntax\n"
     ]
    }
   ],
   "source": [
    "from boilerpipe.extract import Extractor\n",
    "\n",
    "URL='http://radar.oreilly.com/2010/07/louvre-industrial-age-henry-ford.html'\n",
    "\n",
    "extractor = Extractor(extractor='ArticleExtractor', url=URL)\n",
    "\n",
    "print extractor.getText()"
   ]
  },
  {
   "cell_type": "code",
   "execution_count": 25,
   "metadata": {},
   "outputs": [],
   "source": [
    "import feedparser\n",
    "\n",
    "FEED_URL='https://twitter.com/nytimes'\n",
    "\n",
    "fp = feedparser.parse(FEED_URL)\n",
    "\n",
    "for e in fp.entries:\n",
    "    print(e.title)\n",
    "    print(e.links[0].href)\n",
    "    print(e.content[0].value)"
   ]
  },
  {
   "cell_type": "code",
   "execution_count": null,
   "metadata": {},
   "outputs": [],
   "source": []
  }
 ],
 "metadata": {
  "kernelspec": {
   "display_name": "Python 3",
   "language": "python",
   "name": "python3"
  },
  "language_info": {
   "codemirror_mode": {
    "name": "ipython",
    "version": 3
   },
   "file_extension": ".py",
   "mimetype": "text/x-python",
   "name": "python",
   "nbconvert_exporter": "python",
   "pygments_lexer": "ipython3",
   "version": "3.6.8"
  }
 },
 "nbformat": 4,
 "nbformat_minor": 2
}
