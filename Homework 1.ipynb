{
 "cells": [
  {
   "cell_type": "markdown",
   "metadata": {},
   "source": [
    "# Homework 1\n",
    "\n"
   ]
  },
  {
   "cell_type": "markdown",
   "metadata": {},
   "source": [
    "<div class=\"alert alert-block alert-info\">\n",
    "<b>Code Practice 1:</b> Spring 2019\n",
    "<br>\n",
    "<b> By: </b>Marissa &#9733; Posner\n",
    "</div>\n"
   ]
  },
  {
   "cell_type": "markdown",
   "metadata": {},
   "source": [
    "1. Describe and explain what each of these expressions produces in basic Python:\n",
    "2+5 = 7\n",
    "2 + 5=7 #spaces don't matter in Python like this\n",
    "2*5=10\n",
    "2/5=0.4\n",
    "2**5=32\n"
   ]
  },
  {
   "cell_type": "markdown",
   "metadata": {},
   "source": [
    "2. What is the value of x after running these statements in order? Why?\n",
    "x = 7\n",
    "x = x + 3\n",
    "\n",
    "ANSWER: X=10 because x=x from above (7) + 3 =10"
   ]
  },
  {
   "cell_type": "markdown",
   "metadata": {},
   "source": [
    "3. What is the value of y after running these statements in order? Of x? Why?\n",
    "x = 3\n",
    "y = x\n",
    "x = 10\n",
    "\n",
    "ANSWER: Y=3 because x is assigned to 10 after y=x so Y is still = to the original x "
   ]
  },
  {
   "cell_type": "markdown",
   "metadata": {},
   "source": [
    "4. Does this code run without error? If so, what does it produce? If not, explain why.\n",
    "x = 3\n",
    "x = x/2\n",
    "y = 'abc'\n",
    "z = y + y\n",
    "print(x, z)\n",
    "\n",
    "ANSWER: Yes it prints: \"1.5 abcabc\""
   ]
  },
  {
   "cell_type": "markdown",
   "metadata": {},
   "source": [
    "5. Does this code run without error? If so, what does it produce? If not, explain why.\n",
    "x = 3\n",
    "x = x/2\n",
    "y = 'abc'\n",
    "z = x + y\n",
    "print(x, z)\n",
    "\n",
    "ANSWER: No, you CANNOT add mismatched datatypes- in this case a flot and a string "
   ]
  },
  {
   "cell_type": "markdown",
   "metadata": {},
   "source": [
    "6. Does this code run without error? If so, what does it produce? If not, explain why.\n",
    "x = 3\n",
    "y = 24\n",
    "z = y / x\n",
    "print(x, y, z, sep=' | ')\n",
    "\n",
    "ANSWER: \"3 | 24 | 8.0\" because of the separation between"
   ]
  },
  {
   "cell_type": "markdown",
   "metadata": {},
   "source": [
    "7. Does this code run without error? If so, what does it produce? If not, explain why.\n",
    "x = 3\n",
    "y = '24'\n",
    "z = y / x\n",
    "print(x, z)\n",
    "\n",
    "ANSWER: No you CANNOT do operations with mismatched datatypes (string and int in this case)"
   ]
  },
  {
   "cell_type": "markdown",
   "metadata": {},
   "source": [
    "8. Does this code run without error? If so, what does it produce? If not, explain why.\n",
    "x = \"I am a #string\" # Whoa, a string!\n",
    "\n",
    "ANSWER: Yes, it runs and stores the value \"I am a #string\" in X"
   ]
  },
  {
   "cell_type": "markdown",
   "metadata": {},
   "source": [
    "9. Does this code run without error? If so, what does it produce? If not, explain why.\n",
    "x = [1, 2, 3]\n",
    "y = [42, 43]\n",
    "z = x + y\n",
    "print(z)\n",
    "\n",
    "ANSWER: Yes, it produces an array [1, 2, 3, 42, 43]"
   ]
  },
  {
   "cell_type": "markdown",
   "metadata": {},
   "source": [
    "10. Does this code run without error? If so, what does it produce? If not, explain why.\n",
    "x = [1, 2, 3]\n",
    "y = 42\n",
    "z = x + y\n",
    "\n",
    "ANSWER: Again, this does not work because you cannot concatenate an int to a list like that. You would either need to .append() to add it to the end of the list or .insert()"
   ]
  },
  {
   "cell_type": "markdown",
   "metadata": {},
   "source": [
    "11. What \\types\" are\n",
    "x1 = 12 --> int\n",
    "x2 = 12.0 --> float\n",
    "x3 = '12.0'--> string\n",
    "x4 = [12] --> list\n",
    "x5 = [12, 12.0, '12.0'] --> list"
   ]
  },
  {
   "cell_type": "markdown",
   "metadata": {},
   "source": [
    "12. Explain the result of each line:\n",
    "Code Practice #1\n",
    "type(42)--> int\n",
    "type(42.0) --> float\n",
    "type('42.0') --> string\n",
    "type(\"42.0\") --> string\n",
    "type(\"\"\"42.0\"\"\")--> string\n",
    "type([1, 2])--> list\n",
    "type([1] + [2])--> list\n",
    "type(1 + 2)--> int because just adds the ints\n",
    "type(print) --> function technically \"builtin_function_or_method\""
   ]
  }
 ],
 "metadata": {
  "kernelspec": {
   "display_name": "Python 3",
   "language": "python",
   "name": "python3"
  },
  "language_info": {
   "codemirror_mode": {
    "name": "ipython",
    "version": 3
   },
   "file_extension": ".py",
   "mimetype": "text/x-python",
   "name": "python",
   "nbconvert_exporter": "python",
   "pygments_lexer": "ipython3",
   "version": "3.7.0"
  }
 },
 "nbformat": 4,
 "nbformat_minor": 2
}
